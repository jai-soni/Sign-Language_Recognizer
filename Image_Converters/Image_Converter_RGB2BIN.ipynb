{
 "cells": [
  {
   "cell_type": "code",
   "execution_count": 6,
   "metadata": {},
   "outputs": [],
   "source": [
    "import cv2\n",
    "import os\n",
    "import time\n",
    "from PIL import Image\n",
    "from shutil import copyfile\n",
    "\n",
    "def process_image(img):\n",
    "    # clone the frame\n",
    "    clone = img.copy()\n",
    "    # convert to grayscale\n",
    "    grey = cv2.cvtColor(img, cv2.COLOR_BGR2GRAY)\n",
    "\n",
    "    # applying gaussian blur\n",
    "    value = (35, 35)\n",
    "    blurred = cv2.GaussianBlur(grey, value, 0)\n",
    "\n",
    "    # thresholdin: Otsu's Binarization method\n",
    "    _, thresh = cv2.threshold(blurred, 127, 255,\n",
    "                               cv2.THRESH_BINARY_INV+cv2.THRESH_OTSU)\n",
    "    return thresh\n",
    "def create_folder(folder_name):\n",
    "    if not os.path.exists(folder_name):\n",
    "        os.mkdir(folder_name)\n",
    "\n",
    "def init_create_folder():\n",
    "    # create the folder and database if not exist\n",
    "    if not os.path.exists(\"gestures_dataset_jai_binary\"):\n",
    "        os.mkdir(\"gestures_dataset_jai_binary\")\n",
    "def perform_conversion(source_path = \"gestures_dataset_jai/\", dest_path=\"gestures_dataset_jai_binary/\"):\n",
    "    try:\n",
    "        start=time.time()\n",
    "        sub_folders = os.listdir(source_path)\n",
    "        sub_folders.sort()\n",
    "        for folder in sub_folders:\n",
    "            if not os.path.exists(dest_path+folder):\n",
    "                os.mkdir(dest_path+folder)\n",
    "            img_list = os.listdir(source_path+folder+\"/\")\n",
    "            for img_ in img_list:\n",
    "                img = cv2.imread(source_path+folder+\"/\"+img_)\n",
    "                img = process_image(img)\n",
    "                img_name= dest_path+folder+\"/\"+img_\n",
    "                cv2.imwrite(img_name, img)\n",
    "        end=time.time()\n",
    "        print(\"----Conversion Successful----\")\n",
    "        print(\"Files Saved to :\",dest_path)\n",
    "        print(\"Time Elapsed :{} sec\".format(end-start))\n",
    "    except Exception as e:\n",
    "        print(\"Something Happened :\",e)\n",
    "init_create_folder()\n",
    "# create_folder(\"gestures/\"+str(g_name))"
   ]
  },
  {
   "cell_type": "code",
   "execution_count": 11,
   "metadata": {},
   "outputs": [
    {
     "name": "stdout",
     "output_type": "stream",
     "text": [
      "Examples Created\n"
     ]
    }
   ],
   "source": [
    "def create_examples(source_path=\"gestures_dataset_jai/\"):\n",
    "    try:\n",
    "        if not os.path.exists(\"Examples\"):\n",
    "            os.mkdir(\"Examples\")\n",
    "        sub_folders = os.listdir(source_path)\n",
    "        for sub_folder in sub_folders:\n",
    "            img_list = os.listdir(source_path+sub_folder+\"/\")\n",
    "            copyfile(source_path+sub_folder+\"/\"+img_list[0], \"Examples\"+\"/\"+\"example_\"+sub_folder+\".jpg\")\n",
    "        print(\"Examples Created\")\n",
    "    except Exception as e:\n",
    "        print(\"Something Happened :\",e)"
   ]
  },
  {
   "cell_type": "code",
   "execution_count": 4,
   "metadata": {},
   "outputs": [],
   "source": [
    "img_list2 = img_list = os.listdir(source_path+\"0\"+\"/\")"
   ]
  },
  {
   "cell_type": "code",
   "execution_count": null,
   "metadata": {},
   "outputs": [],
   "source": [
    "from shutil import copyfile\n",
    "\n",
    "copyfile(src, dst)"
   ]
  },
  {
   "cell_type": "code",
   "execution_count": 8,
   "metadata": {},
   "outputs": [],
   "source": [
    "img = cv2.imread(\"gestures_dataset_jai/0/0.jpg\")"
   ]
  },
  {
   "cell_type": "code",
   "execution_count": 11,
   "metadata": {},
   "outputs": [],
   "source": [
    "img2 = process_image(img)"
   ]
  },
  {
   "cell_type": "code",
   "execution_count": 15,
   "metadata": {},
   "outputs": [],
   "source": [
    "to_predict2 = Image.fromarray(img2)"
   ]
  },
  {
   "cell_type": "code",
   "execution_count": 16,
   "metadata": {},
   "outputs": [
    {
     "data": {
      "image/png": "[encoded data removed]",
      "text/plain": [
       "<PIL.Image.Image image mode=RGB size=50x50 at 0x23B49C3B358>"
      ]
     },
     "execution_count": 16,
     "metadata": {},
     "output_type": "execute_result"
    }
   ],
   "source": [
    "to_predict"
   ]
  },
  {
   "cell_type": "code",
   "execution_count": 1,
   "metadata": {},
   "outputs": [
    {
     "ename": "NameError",
     "evalue": "name 'cv2' is not defined",
     "output_type": "error",
     "traceback": [
      "\u001b[1;31m---------------------------------------------------------------------------\u001b[0m",
      "\u001b[1;31mNameError\u001b[0m                                 Traceback (most recent call last)",
      "\u001b[1;32m<ipython-input-1-db6a2177fe52>\u001b[0m in \u001b[0;36m<module>\u001b[1;34m()\u001b[0m\n\u001b[1;32m----> 1\u001b[1;33m \u001b[0mcv2\u001b[0m\u001b[1;33m.\u001b[0m\u001b[0mimshow\u001b[0m\u001b[1;33m(\u001b[0m\u001b[1;34m\"MyImage\"\u001b[0m\u001b[1;33m,\u001b[0m\u001b[0mimg\u001b[0m\u001b[1;33m)\u001b[0m\u001b[1;33m\u001b[0m\u001b[0m\n\u001b[0m",
      "\u001b[1;31mNameError\u001b[0m: name 'cv2' is not defined"
     ]
    }
   ],
   "source": [
    "cv2.imshow(\"MyImage\",img)"
   ]
  },
  {
   "cell_type": "code",
   "execution_count": null,
   "metadata": {},
   "outputs": [],
   "source": [
    "img_name= \"opencv_frame_{}.jpg\".format(img_counter)\n",
    "cv2.imwrite(img_name, frame_processed)"
   ]
  }
 ],
 "metadata": {
  "kernelspec": {
   "display_name": "Python 3",
   "language": "python",
   "name": "python3"
  },
  "language_info": {
   "codemirror_mode": {
    "name": "ipython",
    "version": 3
   },
   "file_extension": ".py",
   "mimetype": "text/x-python",
   "name": "python",
   "nbconvert_exporter": "python",
   "pygments_lexer": "ipython3",
   "version": "3.6.4"
  }
 },
 "nbformat": 4,
 "nbformat_minor": 2
}
