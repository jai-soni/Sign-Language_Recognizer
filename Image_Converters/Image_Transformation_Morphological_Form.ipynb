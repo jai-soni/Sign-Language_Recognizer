{
 "cells": [
  {
   "cell_type": "code",
   "execution_count": 3,
   "metadata": {},
   "outputs": [
    {
     "name": "stdout",
     "output_type": "stream",
     "text": [
      "----Conversion Successful----\n",
      "Files Saved to : Alphabets_224_Morph/\n",
      "Time Elapsed :298.725537776947 sec\n"
     ]
    }
   ],
   "source": [
    "import cv2\n",
    "import os\n",
    "import time\n",
    "from PIL import Image\n",
    "from shutil import copyfile\n",
    "import numpy as np\n",
    "\n",
    "def process_image(img):\n",
    "    # clone the frame\n",
    "    clone = img.copy()\n",
    "    \n",
    "    kernel = np.ones((5,5),np.uint8)\n",
    "    gradient = cv2.morphologyEx(img, cv2.MORPH_GRADIENT, kernel)\n",
    "    # applying gaussian blur\n",
    "    #value = (35, 35)\n",
    "    #blurred = cv2.GaussianBlur(grey, value, 0)\n",
    "\n",
    "    # thresholdin: Otsu's Binarization method\n",
    "   # _, thresh = cv2.threshold(gradient, 127, 255,\n",
    "    #                           cv2.THRESH_BINARY_INV+cv2.THRESH_OTSU)\n",
    "    return gradient\n",
    "def create_folder(folder_name):\n",
    "    if not os.path.exists(folder_name):\n",
    "        os.mkdir(folder_name)\n",
    "\n",
    "def init_create_folder():\n",
    "    # create the folder and database if not exist\n",
    "    if not os.path.exists(\"Alphabets_224_Morph\"):\n",
    "        os.mkdir(\"Alphabets_224_Morph\")\n",
    "def perform_conversion(source_path = \"Alphabets_224/\", dest_path=\"Alphabets_224_Morph/\"):\n",
    "    try:\n",
    "        start=time.time()\n",
    "        sub_folders = os.listdir(source_path)\n",
    "        sub_folders.sort()\n",
    "        for folder in sub_folders:\n",
    "            if not os.path.exists(dest_path+folder):\n",
    "                os.mkdir(dest_path+folder)\n",
    "            img_list = os.listdir(source_path+folder+\"/\")\n",
    "            for img_ in img_list:\n",
    "                img = cv2.imread(source_path+folder+\"/\"+img_)\n",
    "                img = process_image(img)\n",
    "                img_name= dest_path+folder+\"/\"+img_\n",
    "                cv2.imwrite(img_name, img)\n",
    "        end=time.time()\n",
    "        print(\"----Conversion Successful----\")\n",
    "        print(\"Files Saved to :\",dest_path)\n",
    "        print(\"Time Elapsed :{} sec\".format(end-start))\n",
    "    except Exception as e:\n",
    "        print(\"Something Happened :\",e)\n",
    "\n",
    "        \n",
    "init_create_folder()\n",
    "perform_conversion()"
   ]
  }
 ],
 "metadata": {
  "kernelspec": {
   "display_name": "Python 3",
   "language": "python",
   "name": "python3"
  },
  "language_info": {
   "codemirror_mode": {
    "name": "ipython",
    "version": 3
   },
   "file_extension": ".py",
   "mimetype": "text/x-python",
   "name": "python",
   "nbconvert_exporter": "python",
   "pygments_lexer": "ipython3",
   "version": "3.6.5"
  }
 },
 "nbformat": 4,
 "nbformat_minor": 2
}
