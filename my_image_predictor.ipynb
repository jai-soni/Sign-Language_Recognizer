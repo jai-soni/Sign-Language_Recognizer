{
 "cells": [
  {
   "cell_type": "code",
   "execution_count": 3,
   "metadata": {
    "scrolled": false
   },
   "outputs": [
    {
     "name": "stdout",
     "output_type": "stream",
     "text": [
      "Key number:  27\n",
      "Escape hit, closing...\n"
     ]
    }
   ],
   "source": [
    "# Here is a simple program that displays the camera feed in a cv2.namedWindow and will save images inside bounding box when 'c' is pressed on keyboard. \n",
    "# It will also quit if you hit ESC.\n",
    "\n",
    "import cv2\n",
    "import os\n",
    "import time\n",
    "from PIL import Image\n",
    "from keras.models import load_model, model_from_json\n",
    "from keras.preprocessing import image\n",
    "import numpy as np\n",
    "\n",
    "# dimensions of our images\n",
    "image_x, image_y = 224, 224\n",
    "\n",
    "cam = cv2.VideoCapture(1)\n",
    "if cam.read()[0]==False:\n",
    "    cam = cv2.VideoCapture(0)\n",
    "#Prediction Classes\n",
    "gesture_list = ['A','B','C','D','E','F','G','H','I','J','K','L','M','N','O','OK GOOGLE','P','Q','R','S','SPACE','T','U','V','W','X','Y','Z']\n",
    "\n",
    "def get_bounding_box(img):\n",
    "    x, y, w, h = 420, 140, 200, 200\n",
    "    cv2.rectangle(img, (x,y), (x+w, y+h), (0,255,0), 3)\n",
    "    \n",
    "def get_cropped_image(img):\n",
    "    x, y, w, h = 420, 140, 200, 200\n",
    "#     cv2.rectangle(img, (x,y), (x+w, y+h), (0,255,0), 3)\n",
    "    imgCrop = img[y:y+h, x:x+w]\n",
    "    return imgCrop\n",
    "\n",
    "def get_thres(img):\n",
    "    # convert to grayscale\n",
    "    grey = cv2.cvtColor(img, cv2.COLOR_BGR2GRAY)\n",
    "#     applying gaussian blur\n",
    "    value = (5, 5)\n",
    "    blurred = cv2.GaussianBlur(grey, value, 0)\n",
    "\n",
    "#     thresholdin: Otsu's Binarization method\n",
    "    _, thresh = cv2.threshold(blurred, 127, 255,\n",
    "                               cv2.THRESH_BINARY_INV+cv2.THRESH_OTSU)\n",
    "    return thresh\n",
    "\n",
    "def start_camera():\n",
    "    frames=0\n",
    "    sentence = \"\"\n",
    "    while True:\n",
    "        img = cam.read()[1]\n",
    "        img = cv2.flip(img, 1)\n",
    "        img_cropped = get_cropped_image(img)\n",
    "        thresh = get_thres(img_cropped)\n",
    "        contours = cv2.findContours(thresh.copy(), cv2.RETR_TREE, cv2.CHAIN_APPROX_NONE)[1]\n",
    "        contour = max(contours, key = cv2.contourArea)\n",
    "        img_name= \"gesture.jpg\"\n",
    "        if len(contours) > 0:\n",
    "            if cv2.contourArea(contour) < 10000 and frames > 50:\n",
    "                try:\n",
    "                    cv2.imwrite(img_name, thresh)\n",
    "                except Exception as e:\n",
    "                    pred = \"--\"\n",
    "                    print(\"Something Happened :\",e)\n",
    "                    break\n",
    "        else:\n",
    "            print(\"No Hand Gesture recognized\")\n",
    "        get_bounding_box(img)\n",
    "        cv2.putText(thresh, str(cv2.contourArea(contour)), (30, 400), cv2.FONT_HERSHEY_TRIPLEX, 0.7, (127, 127, 255))\n",
    "        cv2.imshow(\"Thresh\",thresh)\n",
    "        cv2.imshow(\"Capturing gesture\", img)\n",
    "        keypress = cv2.waitKey(1)\n",
    "        if not keypress==-1:\n",
    "            print(\"Key number: \",keypress)\n",
    "        if keypress%256 == 27:\n",
    "            # 'ESC' pressed\n",
    "            print(\"Escape hit, closing...\")\n",
    "            break\n",
    "        frames +=1\n",
    "try:\n",
    "    start_camera()\n",
    "except Exception as e:\n",
    "    print(\"Something Happened :\",e)\n",
    "cam.release()\n",
    "cv2.destroyAllWindows()"
   ]
  },
  {
   "cell_type": "code",
   "execution_count": null,
   "metadata": {},
   "outputs": [],
   "source": []
  }
 ],
 "metadata": {
  "kernelspec": {
   "display_name": "Python 3",
   "language": "python",
   "name": "python3"
  },
  "language_info": {
   "codemirror_mode": {
    "name": "ipython",
    "version": 3
   },
   "file_extension": ".py",
   "mimetype": "text/x-python",
   "name": "python",
   "nbconvert_exporter": "python",
   "pygments_lexer": "ipython3",
   "version": "3.6.4"
  }
 },
 "nbformat": 4,
 "nbformat_minor": 2
}
