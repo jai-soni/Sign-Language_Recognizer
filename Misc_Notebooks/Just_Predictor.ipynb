{
 "cells": [
  {
   "cell_type": "code",
   "execution_count": 5,
   "metadata": {},
   "outputs": [
    {
     "name": "stdout",
     "output_type": "stream",
     "text": [
      "Loaded model from disk\n",
      "Z\n",
      "Z\n",
      "Z\n",
      "Z\n",
      "Z\n",
      "Z\n",
      "Z\n",
      "Z\n",
      "Z\n",
      "Z\n",
      "Z\n",
      "Z\n",
      "Z\n",
      "Z\n",
      "Z\n",
      "Z\n",
      "Z\n",
      "Z\n",
      "Z\n",
      "Z\n",
      "Z\n",
      "Z\n",
      "Z\n",
      "Z\n",
      "Z\n",
      "Z\n",
      "Z\n",
      "Z\n",
      "Z\n",
      "Z\n",
      "Z\n",
      "Z\n",
      "Z\n",
      "Z\n",
      "Z\n",
      "Z\n",
      "Z\n",
      "Z\n",
      "Z\n",
      "Z\n",
      "Z\n",
      "Z\n",
      "Z\n",
      "Z\n",
      "Z\n",
      "Z\n",
      "Z\n",
      "Z\n",
      "Key number:  27\n",
      "Escape hit, closing...\n"
     ]
    }
   ],
   "source": [
    "import cv2\n",
    "from PIL import Image\n",
    "from keras.models import load_model, model_from_json\n",
    "from keras.preprocessing import image\n",
    "import numpy as np\n",
    "import time\n",
    "\n",
    "MODEL_WEIGHTS_PATH_H5=\"Models//model_tf_Morph.h5\"\n",
    "MODEL_PATH_JSON=\"Models//model_tf_Morph.json\"\n",
    "\n",
    "img_width, img_height = 224, 224\n",
    "#Prediction Classes\n",
    "gesture_list = ['A','B','C','D','E','F','G','H','I','J','K','L','M','N','O','OK GOOGLE','P','Q','R','S','SPACE','T','U','V','W','X','Y','Z']\n",
    "sentence_all = []\n",
    "sentence = \"\"\n",
    "sentence_all.append(sentence)\n",
    "def load_new_model():\n",
    "    # load json and create model\n",
    "    json_file = open(MODEL_PATH_JSON, 'r')\n",
    "    loaded_model_json = json_file.read()\n",
    "    json_file.close()\n",
    "    loaded_model = model_from_json(loaded_model_json)\n",
    "    # load weights into new model\n",
    "    loaded_model.load_weights(MODEL_WEIGHTS_PATH_H5)\n",
    "    print(\"Loaded model from disk\")\n",
    "    return loaded_model\n",
    "\n",
    "def get_prediction(img,loaded_model):\n",
    "    loaded_model.compile(loss='binary_crossentropy',\n",
    "                  optimizer='rmsprop',\n",
    "                  metrics=['accuracy'])\n",
    "    x = image.img_to_array(img)\n",
    "    x = np.expand_dims(x, axis=0)\n",
    "    \n",
    "    images = np.vstack([x])\n",
    "    classes = loaded_model.predict_classes(images, batch_size=10)\n",
    "    probabilities = loaded_model.predict(images)\n",
    "    prediction = gesture_list[int(classes)]\n",
    "    \n",
    "    return prediction,probabilities\n",
    "loaded_model = load_new_model()\n",
    "# try:\n",
    "while True:\n",
    "    frames=0\n",
    "    # Current blank image\n",
    "    img2 = np.zeros(shape=[200, 200, 3], dtype=np.uint8)\n",
    "    try:\n",
    "        img = image.load_img('gesture.jpg', target_size=(img_width, img_height))\n",
    "        img_backup = img\n",
    "    except:\n",
    "        img = img_backup\n",
    "    pred,prob = get_prediction(img,loaded_model)\n",
    "#     if len(list(set(prob.tolist()[0])))<5:\n",
    "    if not pred == sentence_all[-1]:\n",
    "        sentence = sentence + pred\n",
    "        time.sleep(1)\n",
    "    if pred ==\"Space\":\n",
    "        sentence_all.append(\" \")\n",
    "    elif pred ==\"Ok Google\":\n",
    "        sentence_all.append(\"Ok Google\")\n",
    "    else:\n",
    "        sentence_all.append(pred)\n",
    "    cur_pred=pred\n",
    "#     else:\n",
    "#         cur_pred = \"\"\n",
    "    print(cur_pred)\n",
    "    cv2.putText(img2, cur_pred, (30, 60), cv2.FONT_HERSHEY_TRIPLEX, 1, (127, 255, 255))\n",
    "    cv2.imshow(\"Prediction\", img2)\n",
    "    # Sentence blank image\n",
    "    img3 = np.zeros(shape=[200,500, 3], dtype=np.uint8)\n",
    "    cv2.putText(img3, sentence, (30, 60), cv2.FONT_HERSHEY_TRIPLEX, 1, (127, 255, 255))\n",
    "    cv2.imshow(\"Sentence\", img3)\n",
    "    keypress = cv2.waitKey(1)\n",
    "    if not keypress==-1:\n",
    "        print(\"Key number: \",keypress)\n",
    "    if keypress%256 == 27:\n",
    "        # 'ESC' pressed\n",
    "        print(\"Escape hit, closing...\")\n",
    "        break\n",
    "    frames += 1\n",
    "# except Exception as e:\n",
    "#     print(\"Something Happened\",e)\n",
    "cv2.destroyAllWindows()"
   ]
  },
  {
   "cell_type": "code",
   "execution_count": 3,
   "metadata": {},
   "outputs": [
    {
     "data": {
      "text/plain": [
       "'O'"
      ]
     },
     "execution_count": 3,
     "metadata": {},
     "output_type": "execute_result"
    }
   ],
   "source": [
    "pred"
   ]
  },
  {
   "cell_type": "code",
   "execution_count": 2,
   "metadata": {},
   "outputs": [
    {
     "data": {
      "text/plain": [
       "array([[3.8545925e-24, 0.0000000e+00, 2.2575024e-29, 0.0000000e+00,\n",
       "        0.0000000e+00, 0.0000000e+00, 0.0000000e+00, 0.0000000e+00,\n",
       "        0.0000000e+00, 0.0000000e+00, 0.0000000e+00, 0.0000000e+00,\n",
       "        0.0000000e+00, 0.0000000e+00, 1.0000000e+00, 0.0000000e+00,\n",
       "        0.0000000e+00, 0.0000000e+00, 0.0000000e+00, 0.0000000e+00,\n",
       "        0.0000000e+00, 0.0000000e+00, 0.0000000e+00, 0.0000000e+00,\n",
       "        0.0000000e+00, 3.4015257e-15, 0.0000000e+00, 0.0000000e+00]],\n",
       "      dtype=float32)"
      ]
     },
     "execution_count": 2,
     "metadata": {},
     "output_type": "execute_result"
    }
   ],
   "source": [
    "prob"
   ]
  },
  {
   "cell_type": "code",
   "execution_count": 1,
   "metadata": {},
   "outputs": [
    {
     "name": "stderr",
     "output_type": "stream",
     "text": [
      "C:\\ProgramData\\Anaconda3\\lib\\site-packages\\h5py\\__init__.py:36: FutureWarning: Conversion of the second argument of issubdtype from `float` to `np.floating` is deprecated. In future, it will be treated as `np.float64 == np.dtype(float).type`.\n",
      "  from ._conv import register_converters as _register_converters\n",
      "Using TensorFlow backend.\n"
     ]
    },
    {
     "name": "stdout",
     "output_type": "stream",
     "text": [
      "Loaded model from disk\n"
     ]
    }
   ],
   "source": [
    "import cv2\n",
    "from PIL import Image\n",
    "from keras.models import load_model, model_from_json\n",
    "from keras.preprocessing import image\n",
    "import numpy as np\n",
    "import time\n",
    "\n",
    "MODEL_WEIGHTS_PATH_H5=\"Models//VGG Canny Edge//model_VGG_CEdge2.h5\"\n",
    "MODEL_PATH_JSON=\"Models//VGG Canny Edge//model_VGG_CEdge2.json\"\n",
    "\n",
    "img_width, img_height = 224, 224\n",
    "#Prediction Classes\n",
    "gesture_list = ['A','B','C','D','E','F','G','H','I','J','K','L','M','N','O','OK GOOGLE','P','Q','R','S','SPACE','T','U','V','W','X','Y','Z']\n",
    "sentence_all = []\n",
    "sentence = \"\"\n",
    "sentence_all.append(sentence)\n",
    "def load_new_model():\n",
    "    # load json and create model\n",
    "    json_file = open(MODEL_PATH_JSON, 'r')\n",
    "    loaded_model_json = json_file.read()\n",
    "    json_file.close()\n",
    "    loaded_model = model_from_json(loaded_model_json)\n",
    "    # load weights into new model\n",
    "    loaded_model.load_weights(MODEL_WEIGHTS_PATH_H5)\n",
    "    print(\"Loaded model from disk\")\n",
    "    return loaded_model\n",
    "\n",
    "def get_prediction(img,loaded_model):\n",
    "    loaded_model.compile(loss='binary_crossentropy',\n",
    "                  optimizer='rmsprop',\n",
    "                  metrics=['accuracy'])\n",
    "    x = image.img_to_array(img)\n",
    "    x = np.expand_dims(x, axis=0)\n",
    "    \n",
    "    images = np.vstack([x])\n",
    "    classes = loaded_model.predict_classes(images, batch_size=10)\n",
    "    probabilities = loaded_model.predict_proba(images)\n",
    "    prediction = gesture_list[int(classes)]\n",
    "    return prediction,probabilities\n",
    "loaded_model = load_new_model()"
   ]
  },
  {
   "cell_type": "code",
   "execution_count": 2,
   "metadata": {},
   "outputs": [],
   "source": [
    "img = image.load_img('gesture.jpg', target_size=(img_width, img_height))\n",
    "pred,prob = get_prediction(img,loaded_model)"
   ]
  },
  {
   "cell_type": "code",
   "execution_count": 3,
   "metadata": {},
   "outputs": [
    {
     "data": {
      "text/plain": [
       "array([[1.4101522e-28, 7.7941799e-26, 0.0000000e+00, 0.0000000e+00,\n",
       "        7.3700505e-31, 0.0000000e+00, 1.1676832e-30, 0.0000000e+00,\n",
       "        2.1471455e-26, 7.3881221e-31, 0.0000000e+00, 0.0000000e+00,\n",
       "        0.0000000e+00, 1.0000000e+00, 0.0000000e+00, 4.0376742e-21,\n",
       "        0.0000000e+00, 0.0000000e+00, 1.2290526e-26, 2.8913032e-21,\n",
       "        0.0000000e+00, 2.8623082e-37, 0.0000000e+00, 0.0000000e+00,\n",
       "        8.7807413e-24, 5.7679696e-21, 3.8197705e-16, 0.0000000e+00]],\n",
       "      dtype=float32)"
      ]
     },
     "execution_count": 3,
     "metadata": {},
     "output_type": "execute_result"
    }
   ],
   "source": [
    "prob"
   ]
  },
  {
   "cell_type": "code",
   "execution_count": 4,
   "metadata": {},
   "outputs": [
    {
     "data": {
      "text/plain": [
       "'N'"
      ]
     },
     "execution_count": 4,
     "metadata": {},
     "output_type": "execute_result"
    }
   ],
   "source": [
    "pred"
   ]
  },
  {
   "cell_type": "code",
   "execution_count": 53,
   "metadata": {},
   "outputs": [],
   "source": [
    "img = image.load_img('gesture_good.jpg', target_size=(img_width, img_height))\n",
    "pred,prob = get_prediction(img,loaded_model)"
   ]
  },
  {
   "cell_type": "code",
   "execution_count": 54,
   "metadata": {},
   "outputs": [],
   "source": [
    "prob_list = prob.tolist()"
   ]
  },
  {
   "cell_type": "code",
   "execution_count": 55,
   "metadata": {},
   "outputs": [
    {
     "data": {
      "text/plain": [
       "[0.0,\n",
       " 0.0,\n",
       " 0.0,\n",
       " 0.0,\n",
       " 0.0,\n",
       " 0.0,\n",
       " 0.0,\n",
       " 0.0,\n",
       " 0.0,\n",
       " 0.0,\n",
       " 0.0,\n",
       " 0.0,\n",
       " 0.0,\n",
       " 0.0,\n",
       " 0.0,\n",
       " 0.0,\n",
       " 0.0,\n",
       " 0.0,\n",
       " 0.0,\n",
       " 0.0,\n",
       " 0.0,\n",
       " 0.0,\n",
       " 0.0,\n",
       " 0.0,\n",
       " 0.0,\n",
       " 0.0,\n",
       " 1.0,\n",
       " 0.0]"
      ]
     },
     "execution_count": 55,
     "metadata": {},
     "output_type": "execute_result"
    }
   ],
   "source": [
    "prob_list[0]"
   ]
  },
  {
   "cell_type": "code",
   "execution_count": 56,
   "metadata": {},
   "outputs": [],
   "source": [
    "img = image.load_img('gesture_bad2.jpg', target_size=(img_width, img_height))\n",
    "pred,prob = get_prediction(img,loaded_model)"
   ]
  },
  {
   "cell_type": "code",
   "execution_count": 57,
   "metadata": {},
   "outputs": [
    {
     "data": {
      "text/plain": [
       "[3.197253946684166e-35,\n",
       " 0.9999985694885254,\n",
       " 1.0809664583221348e-32,\n",
       " 0.0,\n",
       " 0.0,\n",
       " 0.0,\n",
       " 0.0,\n",
       " 0.0,\n",
       " 1.2924833597892121e-34,\n",
       " 7.827573897897037e-25,\n",
       " 0.0,\n",
       " 0.0,\n",
       " 0.0,\n",
       " 5.8574123992945424e-27,\n",
       " 1.1841798518690681e-23,\n",
       " 0.0,\n",
       " 0.0,\n",
       " 0.0,\n",
       " 5.346787776466611e-32,\n",
       " 1.2584461402594354e-34,\n",
       " 0.0,\n",
       " 0.0,\n",
       " 5.055499247775291e-33,\n",
       " 4.4046857413221215e-29,\n",
       " 5.0268829982431417e-26,\n",
       " 1.4284277085607755e-06,\n",
       " 0.0,\n",
       " 2.5227088601374097e-38]"
      ]
     },
     "execution_count": 57,
     "metadata": {},
     "output_type": "execute_result"
    }
   ],
   "source": [
    "prob.tolist()[0]"
   ]
  },
  {
   "cell_type": "code",
   "execution_count": 58,
   "metadata": {},
   "outputs": [],
   "source": [
    "img = image.load_img('gesture_good2.jpg', target_size=(img_width, img_height))\n",
    "pred,prob = get_prediction(img,loaded_model)"
   ]
  },
  {
   "cell_type": "code",
   "execution_count": 59,
   "metadata": {},
   "outputs": [
    {
     "data": {
      "text/plain": [
       "[0.0,\n",
       " 0.0,\n",
       " 0.0,\n",
       " 0.0,\n",
       " 0.0,\n",
       " 0.0,\n",
       " 0.0,\n",
       " 0.0,\n",
       " 0.0,\n",
       " 0.0,\n",
       " 0.0,\n",
       " 0.0,\n",
       " 0.0,\n",
       " 1.0,\n",
       " 0.0,\n",
       " 0.0,\n",
       " 0.0,\n",
       " 0.0,\n",
       " 0.0,\n",
       " 0.0,\n",
       " 0.0,\n",
       " 0.0,\n",
       " 0.0,\n",
       " 0.0,\n",
       " 0.0,\n",
       " 0.0,\n",
       " 0.0,\n",
       " 0.0]"
      ]
     },
     "execution_count": 59,
     "metadata": {},
     "output_type": "execute_result"
    }
   ],
   "source": [
    "prob.tolist()[0]"
   ]
  },
  {
   "cell_type": "code",
   "execution_count": 48,
   "metadata": {},
   "outputs": [
    {
     "data": {
      "text/plain": [
       "'N'"
      ]
     },
     "execution_count": 48,
     "metadata": {},
     "output_type": "execute_result"
    }
   ],
   "source": [
    "pred"
   ]
  },
  {
   "cell_type": "code",
   "execution_count": 72,
   "metadata": {},
   "outputs": [
    {
     "data": {
      "text/plain": [
       "2"
      ]
     },
     "execution_count": 72,
     "metadata": {},
     "output_type": "execute_result"
    }
   ],
   "source": [
    "len(list(set(prob.tolist()[0])))"
   ]
  },
  {
   "cell_type": "code",
   "execution_count": null,
   "metadata": {},
   "outputs": [],
   "source": []
  }
 ],
 "metadata": {
  "kernelspec": {
   "display_name": "Python 3",
   "language": "python",
   "name": "python3"
  },
  "language_info": {
   "codemirror_mode": {
    "name": "ipython",
    "version": 3
   },
   "file_extension": ".py",
   "mimetype": "text/x-python",
   "name": "python",
   "nbconvert_exporter": "python",
   "pygments_lexer": "ipython3",
   "version": "3.6.4"
  }
 },
 "nbformat": 4,
 "nbformat_minor": 2
}
